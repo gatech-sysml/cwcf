{
 "cells": [
  {
   "cell_type": "markdown",
   "metadata": {
    "id": "DWWBXdplxF6Y"
   },
   "source": [
    "# Classification with Costly Features\n",
    "\n",
    "## SetUp\n",
    "\n",
    "### Google Drive"
   ]
  },
  {
   "cell_type": "markdown",
   "metadata": {
    "id": "lTQpZL7txdxH"
   },
   "source": [
    "### CwCF"
   ]
  },
  {
   "cell_type": "code",
   "execution_count": 1,
   "metadata": {
    "colab": {
     "base_uri": "https://localhost:8080/"
    },
    "id": "AnncEWEzuX-M",
    "outputId": "9a4e3537-8def-484f-a4bd-3252ac628ded"
   },
   "outputs": [
    {
     "name": "stdout",
     "output_type": "stream",
     "text": [
      "Cloning into 'cwcf'...\n",
      "remote: Enumerating objects: 102, done.\u001b[K\n",
      "remote: Total 102 (delta 0), reused 0 (delta 0), pack-reused 102\u001b[K\n",
      "Receiving objects: 100% (102/102), 803.99 KiB | 7.38 MiB/s, done.\n",
      "Resolving deltas: 100% (40/40), done.\n"
     ]
    }
   ],
   "source": [
    "! git clone https://github.com/jaromiru/cwcf.git"
   ]
  },
  {
   "cell_type": "markdown",
   "metadata": {
    "id": "GFl-Cfn4xXMd"
   },
   "source": [
    "### Conda"
   ]
  },
  {
   "cell_type": "code",
   "execution_count": 2,
   "metadata": {
    "colab": {
     "base_uri": "https://localhost:8080/"
    },
    "id": "BLUSu_GnujCm",
    "outputId": "1aa95136-60fd-4761-90fc-19bae351d12f"
   },
   "outputs": [
    {
     "name": "stdout",
     "output_type": "stream",
     "text": [
      "Python 3.8.8\r\n"
     ]
    }
   ],
   "source": [
    "! python --version"
   ]
  },
  {
   "cell_type": "code",
   "execution_count": 3,
   "metadata": {
    "colab": {
     "base_uri": "https://localhost:8080/"
    },
    "id": "lcRcxTR2uoxr",
    "outputId": "6dfadf77-7e9c-48ac-b3d7-bd0fe1c585d3"
   },
   "outputs": [
    {
     "name": "stdout",
     "output_type": "stream",
     "text": [
      "env: PYTHONPATH=\n"
     ]
    }
   ],
   "source": [
    "%env PYTHONPATH="
   ]
  },
  {
   "cell_type": "code",
   "execution_count": null,
   "metadata": {
    "colab": {
     "base_uri": "https://localhost:8080/"
    },
    "id": "bNoaK1mEvIZ3",
    "outputId": "6a59ff21-95ee-4690-a208-f4d6c7700e7e"
   },
   "outputs": [
    {
     "name": "stdout",
     "output_type": "stream",
     "text": [
      "Solving environment: ...working... done\n",
      "\n",
      "## Package Plan ##\n",
      "\n",
      "  environment location: /usr/local\n",
      "\n",
      "  added / updated specs: \n",
      "    - conda\n",
      "    - python=3.6\n",
      "\n",
      "\n",
      "The following packages will be downloaded:\n",
      "\n",
      "    package                    |            build\n",
      "    ---------------------------|-----------------\n",
      "    libffi-3.3                 |       he6710b0_2          54 KB\n",
      "    requests-2.26.0            |     pyhd3eb1b0_0          59 KB\n",
      "    pyopenssl-20.0.1           |     pyhd3eb1b0_1          48 KB\n",
      "    conda-4.10.3               |   py36h06a4308_0         3.1 MB\n",
      "    certifi-2021.5.30          |   py36h06a4308_0         141 KB\n",
      "    tqdm-4.62.1                |     pyhd3eb1b0_1          80 KB\n",
      "    pip-21.2.2                 |   py36h06a4308_0         2.1 MB\n",
      "    urllib3-1.26.6             |     pyhd3eb1b0_1         106 KB\n",
      "    conda-package-handling-1.7.3|   py36h27cfd23_1         946 KB\n",
      "    pycparser-2.20             |             py_2          94 KB\n",
      "    wheel-0.37.0               |     pyhd3eb1b0_1          31 KB\n",
      "    ca-certificates-2021.7.5   |       h06a4308_1         119 KB\n",
      "    zlib-1.2.11                |       h7b6447c_3         120 KB\n",
      "    python-3.6.13              |       h12debd9_1        32.5 MB\n",
      "    pysocks-1.7.1              |   py36h06a4308_0          30 KB\n",
      "    idna-3.2                   |     pyhd3eb1b0_0          54 KB\n",
      "    six-1.16.0                 |     pyhd3eb1b0_0          18 KB\n",
      "    ncurses-6.2                |       he6710b0_1         1.1 MB\n",
      "    xz-5.2.5                   |       h7b6447c_0         438 KB\n",
      "    setuptools-52.0.0          |   py36h06a4308_0         933 KB\n",
      "    libstdcxx-ng-9.1.0         |       hdf63c60_0         4.0 MB\n",
      "    openssl-1.1.1l             |       h7f8727e_0         3.8 MB\n",
      "    cryptography-3.4.7         |   py36hd23ed53_0         1.0 MB\n",
      "    pycosat-0.6.3              |   py36h27cfd23_0         107 KB\n",
      "    _libgcc_mutex-0.1          |             main           3 KB\n",
      "    yaml-0.2.5                 |       h7b6447c_0          87 KB\n",
      "    readline-8.1               |       h27cfd23_0         464 KB\n",
      "    charset-normalizer-2.0.4   |     pyhd3eb1b0_0          33 KB\n",
      "    tk-8.6.10                  |       hbc83047_0         3.2 MB\n",
      "    sqlite-3.36.0              |       hc218d9a_0         1.4 MB\n",
      "    libgcc-ng-9.1.0            |       hdf63c60_0         8.1 MB\n",
      "    brotlipy-0.7.0             |py36h27cfd23_1003         349 KB\n",
      "    ld_impl_linux-64-2.35.1    |       h7274673_9         637 KB\n",
      "    ruamel_yaml-0.15.100       |   py36h27cfd23_0         268 KB\n",
      "    cffi-1.14.6                |   py36h400218f_0         224 KB\n",
      "    ------------------------------------------------------------\n",
      "                                           Total:        65.7 MB\n",
      "\n",
      "The following NEW packages will be INSTALLED:\n",
      "\n",
      "    _libgcc_mutex:          0.1-main               \n",
      "    brotlipy:               0.7.0-py36h27cfd23_1003\n",
      "    charset-normalizer:     2.0.4-pyhd3eb1b0_0     \n",
      "    conda-package-handling: 1.7.3-py36h27cfd23_1   \n",
      "    ld_impl_linux-64:       2.35.1-h7274673_9      \n",
      "    tqdm:                   4.62.1-pyhd3eb1b0_1    \n",
      "\n",
      "The following packages will be UPDATED:\n",
      "\n",
      "    ca-certificates:        2018.03.07-0            --> 2021.7.5-h06a4308_1     \n",
      "    certifi:                2018.4.16-py36_0        --> 2021.5.30-py36h06a4308_0\n",
      "    cffi:                   1.11.5-py36h9745a5d_0   --> 1.14.6-py36h400218f_0   \n",
      "    conda:                  4.5.4-py36_0            --> 4.10.3-py36h06a4308_0   \n",
      "    cryptography:           2.2.2-py36h14c3975_0    --> 3.4.7-py36hd23ed53_0    \n",
      "    idna:                   2.6-py36h82fb2a8_1      --> 3.2-pyhd3eb1b0_0        \n",
      "    libffi:                 3.2.1-hd88cf55_4        --> 3.3-he6710b0_2          \n",
      "    libgcc-ng:              7.2.0-hdf63c60_3        --> 9.1.0-hdf63c60_0        \n",
      "    libstdcxx-ng:           7.2.0-hdf63c60_3        --> 9.1.0-hdf63c60_0        \n",
      "    ncurses:                6.1-hf484d3e_0          --> 6.2-he6710b0_1          \n",
      "    openssl:                1.0.2o-h20670df_0       --> 1.1.1l-h7f8727e_0       \n",
      "    pip:                    10.0.1-py36_0           --> 21.2.2-py36h06a4308_0   \n",
      "    pycosat:                0.6.3-py36h0a5515d_0    --> 0.6.3-py36h27cfd23_0    \n",
      "    pycparser:              2.18-py36hf9f622e_1     --> 2.20-py_2               \n",
      "    pyopenssl:              18.0.0-py36_0           --> 20.0.1-pyhd3eb1b0_1     \n",
      "    pysocks:                1.6.8-py36_0            --> 1.7.1-py36h06a4308_0    \n",
      "    python:                 3.6.5-hc3d631a_2        --> 3.6.13-h12debd9_1       \n",
      "    readline:               7.0-ha6073c6_4          --> 8.1-h27cfd23_0          \n",
      "    requests:               2.18.4-py36he2e5f8d_1   --> 2.26.0-pyhd3eb1b0_0     \n",
      "    ruamel_yaml:            0.15.37-py36h14c3975_2  --> 0.15.100-py36h27cfd23_0 \n",
      "    setuptools:             39.2.0-py36_0           --> 52.0.0-py36h06a4308_0   \n",
      "    six:                    1.11.0-py36h372c433_1   --> 1.16.0-pyhd3eb1b0_0     \n",
      "    sqlite:                 3.23.1-he433501_0       --> 3.36.0-hc218d9a_0       \n",
      "    tk:                     8.6.7-hc745277_3        --> 8.6.10-hbc83047_0       \n",
      "    urllib3:                1.22-py36hbe7ace6_0     --> 1.26.6-pyhd3eb1b0_1     \n",
      "    wheel:                  0.31.1-py36_0           --> 0.37.0-pyhd3eb1b0_1     \n",
      "    xz:                     5.2.4-h14c3975_4        --> 5.2.5-h7b6447c_0        \n",
      "    yaml:                   0.1.7-had09818_2        --> 0.2.5-h7b6447c_0        \n",
      "    zlib:                   1.2.11-ha838bed_2       --> 1.2.11-h7b6447c_3       \n",
      "\n",
      "\n",
      "Downloading and Extracting Packages\n",
      "Preparing transaction: ...working... done\n",
      "Verifying transaction: ...working... done\n",
      "Executing transaction: ...working... done\n",
      "Collecting package metadata (current_repodata.json): ...working... done\n",
      "Solving environment: ...working... done\n",
      "\n",
      "## Package Plan ##\n",
      "\n",
      "  environment location: /usr/local\n",
      "\n",
      "\n",
      "The following packages will be downloaded:\n",
      "\n",
      "    package                    |            build\n",
      "    ---------------------------|-----------------\n",
      "    _openmp_mutex-4.5          |            1_gnu          22 KB\n",
      "    libgcc-ng-9.3.0            |      h5101ec6_17         4.8 MB\n",
      "    libgomp-9.3.0              |      h5101ec6_17         311 KB\n",
      "    libstdcxx-ng-9.3.0         |      hd4cf53a_17         3.1 MB\n",
      "    ------------------------------------------------------------\n",
      "                                           Total:         8.2 MB\n",
      "\n",
      "The following NEW packages will be INSTALLED:\n",
      "\n",
      "  _openmp_mutex      pkgs/main/linux-64::_openmp_mutex-4.5-1_gnu\n",
      "  libgomp            pkgs/main/linux-64::libgomp-9.3.0-h5101ec6_17\n",
      "\n",
      "The following packages will be REMOVED:\n",
      "\n",
      "  asn1crypto-0.24.0-py36_0\n",
      "  chardet-3.0.4-py36h0f667ec_1\n",
      "  conda-env-2.6.0-h36134e3_1\n",
      "  libedit-3.1.20170329-h6b74fdf_2\n",
      "\n",
      "The following packages will be UPDATED:\n",
      "\n",
      "  libgcc-ng                                9.1.0-hdf63c60_0 --> 9.3.0-h5101ec6_17\n",
      "  libstdcxx-ng                             9.1.0-hdf63c60_0 --> 9.3.0-hd4cf53a_17\n",
      "\n",
      "\n",
      "\n",
      "Downloading and Extracting Packages\n",
      "\r",
      "libgomp-9.3.0        | 311 KB    |            |   0% \r",
      "libgomp-9.3.0        | 311 KB    | ########## | 100% \r",
      "libgomp-9.3.0        | 311 KB    | ########## | 100% \n",
      "\r",
      "libgcc-ng-9.3.0      | 4.8 MB    |            |   0% \r",
      "libgcc-ng-9.3.0      | 4.8 MB    | ########## | 100% \r",
      "libgcc-ng-9.3.0      | 4.8 MB    | ########## | 100% \n",
      "\r",
      "_openmp_mutex-4.5    | 22 KB     |            |   0% \r",
      "_openmp_mutex-4.5    | 22 KB     | ########## | 100% \n",
      "\r",
      "libstdcxx-ng-9.3.0   | 3.1 MB    |            |   0% \r",
      "libstdcxx-ng-9.3.0   | 3.1 MB    | ########## | 100% \r",
      "libstdcxx-ng-9.3.0   | 3.1 MB    | ########## | 100% \n",
      "Preparing transaction: ...working... done\n",
      "Verifying transaction: ...working... done\n",
      "Executing transaction: ...working... done\n"
     ]
    },
    {
     "name": "stderr",
     "output_type": "stream",
     "text": [
      "\r",
      "libffi-3.3           |   54 KB |            |   0% \r",
      "libffi-3.3           |   54 KB | ########## | 100% \n",
      "\r",
      "requests-2.26.0      |   59 KB |            |   0% \r",
      "requests-2.26.0      |   59 KB | ########## | 100% \n",
      "\r",
      "pyopenssl-20.0.1     |   48 KB |            |   0% \r",
      "pyopenssl-20.0.1     |   48 KB | ########## | 100% \n",
      "\r",
      "conda-4.10.3         |  3.1 MB |            |   0% \r",
      "conda-4.10.3         |  3.1 MB | ########1  |  81% \r",
      "conda-4.10.3         |  3.1 MB | ########## | 100% \n",
      "\r",
      "certifi-2021.5.30    |  141 KB |            |   0% \r",
      "certifi-2021.5.30    |  141 KB | ########## | 100% \n",
      "\r",
      "tqdm-4.62.1          |   80 KB |            |   0% \r",
      "tqdm-4.62.1          |   80 KB | ########## | 100% \n",
      "\r",
      "pip-21.2.2           |  2.1 MB |            |   0% \r",
      "pip-21.2.2           |  2.1 MB | #######8   |  79% \r",
      "pip-21.2.2           |  2.1 MB | #########8 |  99% \r",
      "pip-21.2.2           |  2.1 MB | ########## | 100% \n",
      "\r",
      "urllib3-1.26.6       |  106 KB |            |   0% \r",
      "urllib3-1.26.6       |  106 KB | ########## | 100% \n",
      "\r",
      "conda-package-handli |  946 KB |            |   0% \r",
      "conda-package-handli |  946 KB | ########8  |  88% \r",
      "conda-package-handli |  946 KB | ########## | 100% \n",
      "\r",
      "pycparser-2.20       |   94 KB |            |   0% \r",
      "pycparser-2.20       |   94 KB | ########## | 100% \n",
      "\r",
      "wheel-0.37.0         |   31 KB |            |   0% \r",
      "wheel-0.37.0         |   31 KB | ########## | 100% \n",
      "\r",
      "ca-certificates-2021 |  119 KB |            |   0% \r",
      "ca-certificates-2021 |  119 KB | ########## | 100% \n",
      "\r",
      "zlib-1.2.11          |  120 KB |            |   0% \r",
      "zlib-1.2.11          |  120 KB | ########## | 100% \n",
      "\r",
      "python-3.6.13        | 32.5 MB |            |   0% \r",
      "python-3.6.13        | 32.5 MB | #6         |  17% \r",
      "python-3.6.13        | 32.5 MB | ###8       |  39% \r",
      "python-3.6.13        | 32.5 MB | #####9     |  60% \r",
      "python-3.6.13        | 32.5 MB | #######5   |  75% \r",
      "python-3.6.13        | 32.5 MB | ########9  |  89% \r",
      "python-3.6.13        | 32.5 MB | #########9 |  99% \r",
      "python-3.6.13        | 32.5 MB | ########## | 100% \n",
      "\r",
      "pysocks-1.7.1        |   30 KB |            |   0% \r",
      "pysocks-1.7.1        |   30 KB | ########## | 100% \n",
      "\r",
      "idna-3.2             |   54 KB |            |   0% \r",
      "idna-3.2             |   54 KB | ########## | 100% \n",
      "\r",
      "six-1.16.0           |   18 KB |            |   0% \r",
      "six-1.16.0           |   18 KB | ########## | 100% \n",
      "\r",
      "ncurses-6.2          |  1.1 MB |            |   0% \r",
      "ncurses-6.2          |  1.1 MB | #######8   |  78% \r",
      "ncurses-6.2          |  1.1 MB | #########5 |  96% \r",
      "ncurses-6.2          |  1.1 MB | ########## | 100% \n",
      "\r",
      "xz-5.2.5             |  438 KB |            |   0% \r",
      "xz-5.2.5             |  438 KB | #########3 |  93% \r",
      "xz-5.2.5             |  438 KB | ########## | 100% \n",
      "\r",
      "setuptools-52.0.0    |  933 KB |            |   0% \r",
      "setuptools-52.0.0    |  933 KB | ########1  |  81% \r",
      "setuptools-52.0.0    |  933 KB | ########## | 100% \n",
      "\r",
      "libstdcxx-ng-9.1.0   |  4.0 MB |            |   0% \r",
      "libstdcxx-ng-9.1.0   |  4.0 MB | #######6   |  77% \r",
      "libstdcxx-ng-9.1.0   |  4.0 MB | #########5 |  95% \r",
      "libstdcxx-ng-9.1.0   |  4.0 MB | ########## | 100% \n",
      "\r",
      "openssl-1.1.1l       |  3.8 MB |            |   0% \r",
      "openssl-1.1.1l       |  3.8 MB | #######5   |  76% \r",
      "openssl-1.1.1l       |  3.8 MB | #########8 |  99% \r",
      "openssl-1.1.1l       |  3.8 MB | ########## | 100% \n",
      "\r",
      "cryptography-3.4.7   |  1.0 MB |            |   0% \r",
      "cryptography-3.4.7   |  1.0 MB | #######9   |  80% \r",
      "cryptography-3.4.7   |  1.0 MB | #########5 |  96% \r",
      "cryptography-3.4.7   |  1.0 MB | ########## | 100% \n",
      "\r",
      "pycosat-0.6.3        |  107 KB |            |   0% \r",
      "pycosat-0.6.3        |  107 KB | ########## | 100% \n",
      "\r",
      "_libgcc_mutex-0.1    |    3 KB |            |   0% \r",
      "_libgcc_mutex-0.1    |    3 KB | ########## | 100% \n",
      "\r",
      "yaml-0.2.5           |   87 KB |            |   0% \r",
      "yaml-0.2.5           |   87 KB | ########## | 100% \n",
      "\r",
      "readline-8.1         |  464 KB |            |   0% \r",
      "readline-8.1         |  464 KB | #########7 |  97% \r",
      "readline-8.1         |  464 KB | ########## | 100% \n",
      "\r",
      "charset-normalizer-2 |   33 KB |            |   0% \r",
      "charset-normalizer-2 |   33 KB | ########## | 100% \n",
      "\r",
      "tk-8.6.10            |  3.2 MB |            |   0% \r",
      "tk-8.6.10            |  3.2 MB | #######7   |  78% \r",
      "tk-8.6.10            |  3.2 MB | #########8 |  99% \r",
      "tk-8.6.10            |  3.2 MB | ########## | 100% \n",
      "\r",
      "sqlite-3.36.0        |  1.4 MB |            |   0% \r",
      "sqlite-3.36.0        |  1.4 MB | ########3  |  83% \r",
      "sqlite-3.36.0        |  1.4 MB | ########## | 100% \n",
      "\r",
      "libgcc-ng-9.1.0      |  8.1 MB |            |   0% \r",
      "libgcc-ng-9.1.0      |  8.1 MB | #####2     |  52% \r",
      "libgcc-ng-9.1.0      |  8.1 MB | #######6   |  76% \r",
      "libgcc-ng-9.1.0      |  8.1 MB | #########4 |  95% \r",
      "libgcc-ng-9.1.0      |  8.1 MB | ########## | 100% \n",
      "\r",
      "brotlipy-0.7.0       |  349 KB |            |   0% \r",
      "brotlipy-0.7.0       |  349 KB | ########## | 100% \n",
      "\r",
      "ld_impl_linux-64-2.3 |  637 KB |            |   0% \r",
      "ld_impl_linux-64-2.3 |  637 KB | #########1 |  92% \r",
      "ld_impl_linux-64-2.3 |  637 KB | ########## | 100% \n",
      "\r",
      "ruamel_yaml-0.15.100 |  268 KB |            |   0% \r",
      "ruamel_yaml-0.15.100 |  268 KB | ########## | 100% \n",
      "\r",
      "cffi-1.14.6          |  224 KB |            |   0% \r",
      "cffi-1.14.6          |  224 KB | ########## | 100% \n"
     ]
    }
   ],
   "source": [
    "%%bash\n",
    "conda install --channel defaults conda python=3.6 --yes\n",
    "conda update --channel defaults --all --yes"
   ]
  },
  {
   "cell_type": "code",
   "execution_count": null,
   "metadata": {
    "id": "qnhZbF5axhRt"
   },
   "outputs": [],
   "source": [
    "import sys\n",
    "sys.path.append(\"/usr/local/lib/python3.6/site-packages\")"
   ]
  },
  {
   "cell_type": "markdown",
   "metadata": {
    "id": "mugs0rQB0GKz"
   },
   "source": [
    "### Packages"
   ]
  },
  {
   "cell_type": "code",
   "execution_count": null,
   "metadata": {
    "id": "xxb9JhtWxqGN"
   },
   "outputs": [],
   "source": [
    "!conda install --channel conda-forge numpy pandas --yes"
   ]
  },
  {
   "cell_type": "code",
   "execution_count": null,
   "metadata": {
    "id": "8EYNoiBK5Ynn"
   },
   "outputs": [],
   "source": [
    "!conda remove numpy pandas"
   ]
  },
  {
   "cell_type": "code",
   "execution_count": null,
   "metadata": {
    "colab": {
     "base_uri": "https://localhost:8080/"
    },
    "id": "E-mBolikx0BK",
    "outputId": "047a0a22-0b0b-4efe-898f-33ba1497e06e"
   },
   "outputs": [
    {
     "name": "stdout",
     "output_type": "stream",
     "text": [
      "\b\b| \b\b/ \b\b- \b\b\\ \b\b| \b\b/ \b\b- \b\b\\ \b\b| \b\b/ \b\b- \b\b\\ \b\b| \b\bdone\n",
      "Solving environment: - \b\b\\ \b\b| \b\b/ \b\b- \b\b\\ \b\b| \b\b/ \b\b- \b\b\\ \b\b| \b\b/ \b\b- \b\b\\ \b\b| \b\b/ \b\b- \b\b\\ \b\b| \b\b/ \b\b- \b\b\\ \b\b| \b\b/ \b\b- \b\b\\ \b\b| \b\b/ \b\b- \b\b\\ \b\b| \b\b/ \b\b- \b\b\\ \b\b| \b\b/ \b\b- \b\b\\ \b\b| \b\b/ \b\b- \b\bfailed with initial frozen solve. Retrying with flexible solve.\n",
      "Solving environment: | \b\b/ \b\b- \b\b\\ \b\b| \b\b/ \b\b- \b\b\\ \b\b| \b\b/ \b\b- \b\b\\ \b\b| \b\b/ \b\b- \b\b\\ \b\b| \b\b/ \b\b- \b\b\\ \b\b| \b\b/ \b\b- \b\b\\ \b\b| \b\b/ \b\b- \b\b\\ \b\b| \b\b/ \b\b- \b\b\\ \b\b| \b\b/ \b\b- \b\b\\ \b\b| \b\b/ \b\b- \b\b\\ \b\b| \b\b/ \b\b- \b\b\\ \b\b| \b\bfailed with repodata from current_repodata.json, will retry with next repodata source.\n",
      "Collecting package metadata (repodata.json): - \b\b\\ \b\b| \b\b/ \b\b- \b\b\\ \b\b| \b\b/ \b\b- \b\b\\ \b\b| \b\b/ \b\b- \b\b\\ \b\b| \b\b/ \b\b- \b\b\\ \b\b| \b\b/ \b\b- \b\b\\ \b\b| \b\b/ \b\b- \b\b\\ \b\b| \b\b/ \b\b- \b\b\\ \b\b| \b\b/ \b\b- \b\b\\ \b\b| \b\b/ \b\b- \b\b\\ \b\b| \b\b/ \b\b- \b\b\\ \b\b| \b\b/ \b\b- \b\b\\ \b\b| \b\b/ \b\b- \b\b\\ \b\b| \b\b/ \b\b- \b\b\\ \b\b| \b\b/ \b\b- \b\b\\ \b\b| \b\b/ \b\b- \b\b\\ \b\b| \b\b/ \b\b- \b\b\\ \b\b| \b\b/ \b\b- \b\b\\ \b\b| \b\b/ \b\b- \b\b\\ \b\b| \b\b/ \b\b- \b\b\\ \b\b| \b\b/ \b\b- \b\b\\ \b\b| \b\b/ \b\b- \b\b\\ \b\b| \b\b/ \b\b- \b\b\\ \b\b| \b\b/ \b\b- \b\b\\ \b\b| \b\bdone\n",
      "Solving environment: - \b\b\\ \b\b| \b\b/ \b\b- \b\b\\ \b\b| \b\b/ \b\b- \b\b\\ \b\b| \b\b/ \b\b- \b\b\\ \b\b| \b\b/ \b\b- \b\b\\ \b\b| \b\b/ \b\b- \b\b\\ \b\b| \b\b/ \b\b- \b\b\\ \b\b| \b\b/ \b\b- \b\b\\ \b\b| \b\b/ \b\b- \b\b\\ \b\b| \b\b/ \b\b- \b\b\\ \b\b| \b\b/ \b\b- \b\b\\ \b\b| \b\b/ \b\b- \b\b\\ \b\b| \b\b/ \b\b- \b\b\\ \b\b| \b\b/ \b\b- \b\b\\ \b\b| \b\b/ \b\b- \b\b\\ \b\b| \b\b/ \b\b- \b\b\\ \b\b| \b\b/ \b\b- \b\b\\ \b\b| \b\b/ \b\b- \b\b\\ \b\b| \b\b/ \b\b- \b\b\\ \b\b| \b\b/ \b\b- \b\b\\ \b\b| \b\b/ \b\b- \b\b\\ \b\b| \b\b/ \b\b- \b\b\\ \b\b| \b\b/ \b\b- \b\b\\ \b\b| \b\b/ \b\b- \b\b\\ \b\b| \b\b/ \b\b- \b\b\\ \b\b| \b\b/ \b\b- \b\b\\ \b\b| \b\b/ \b\b- \b\b\\ \b\b| \b\b/ \b\b- \b\b\\ \b\b| \b\b/ \b\b- \b\b\\ \b\b| \b\b/ \b\b- \b\b\\ \b\b| \b\b/ \b\b- \b\b\\ \b\b| \b\b/ \b\b- \b\b\\ \b\b| \b\b/ \b\b- \b\b\\ \b\b| \b\b/ \b\b- \b\b\\ \b\b| \b\b/ \b\b- \b\b\\ \b\b| \b\b/ \b\b- \b\b\\ \b\b| \b\b/ \b\b- \b\b\\ \b\b| \b\b/ \b\b- \b\b\\ \b\b| \b\b/ \b\b- \b\b\\ \b\b| \b\b/ \b\b- \b\b\\ \b\b| \b\b/ \b\b- \b\b\\ \b\b| \b\b/ \b\b- \b\b\\ \b\b| \b\b/ \b\b- \b\b\\ \b\b| \b\b/ \b\b- \b\b\\ \b\b| \b\b/ \b\b- \b\b\\ \b\b| \b\b/ \b\b- \b\b\\ \b\b| \b\b/ \b\b- \b\b\\ \b\b| \b\b/ \b\b- \b\b\\ \b\b| \b\b/ \b\b- \b\b\\ \b\b| \b\b/ \b\b- \b\b\\ \b\b| \b\b/ \b\b- \b\b\\ \b\b| \b\b/ \b\b- \b\b\\ \b\b| \b\b/ \b\b- \b\b\\ \b\b| \b\b/ \b\b- \b\b\\ \b\b| \b\b/ \b\b- \b\b\\ \b\b| \b\b/ \b\b- \b\b\\ \b\b| \b\b/ \b\b- \b\b\\ \b\b| \b\bfailed with initial frozen solve. Retrying with flexible solve.\n",
      "Solving environment: - \b\b\\ \b\b| \b\b/ \b\b- \b\b\\ \b\b| \b\b/ \b\b- \b\b\\ \b\b| \b\b/ \b\b- \b\b\\ \b\b| \b\b/ \b\b- \b\b\\ \b\b| \b\b/ \b\b- \b\b\\ \b\b| \b\b/ \b\b- \b\b\\ \b\b| \b\b/ \b\b- \b\b\\ \b\b| \b\b/ \b\b- \b\b\\ \b\b| \b\b/ \b\b- \b\b\\ \b\b| \b\b/ \b\b- \b\b\\ \b\b| \b\b/ \b\b- \b\b\\ \b\b| \b\b/ \b\b- \b\b\\ \b\b| \b\b/ \b\b- \b\b\\ \b\b| \b\b/ \b\b- \b\b\\ \b\b| \b\b/ \b\b- \b\b\\ \b\b| \b\b/ \b\b- \b\b\\ \b\b| \b\b/ \b\b- \b\b\\ \b\b| \b\b/ \b\b- \b\b\\ \b\b| \b\b/ \b\b- \b\b\\ \b\b| \b\b/ \b\b- \b\b\\ \b\b| \b\b/ \b\b- \b\b\\ \b\b| \b\b/ \b\b- \b\b\\ \b\b| \b\b/ \b\b- \b\b\\ \b\b| \b\b/ \b\b- \b\b\\ \b\b| \b\b/ \b\b- \b\b\\ \b\b| \b\b/ \b\b- \b\b\\ \b\b| \b\b/ \b\b- \b\b\\ \b\b| \b\b/ \b\b- \b\b\\ \b\b| \b\b/ \b\b- \b\b\\ \b\b| \b\b/ \b\b- \b\b\\ \b\b| \b\b/ \b\b- \b\b\\ \b\b| \b\b/ \b\b- \b\b\\ \b\b| \b\b/ \b\b- \b\b\\ \b\b| \b\b/ \b\b- \b\b\\ \b\b| \b\b/ \b\b- \b\b\\ \b\b| \b\b/ \b\b- \b\b\\ \b\b| \b\b/ \b\b- \b\b\\ \b\b| \b\b/ \b\b- \b\b\\ \b\b| \b\b/ \b\b- \b\b\\ \b\b| \b\b/ \b\b- \b\b\\ \b\b| \b\b/ \b\b- \b\b\\ \b\b| \b\b/ \b\b- \b\b\\ \b\b| \b\b/ \b\b- \b\b\\ \b\b| \b\b/ \b\b- \b\b\\ \b\b| \b\b/ \b\b- \b\b\\ \b\b| \b\b/ \b\b- \b\b\\ \b\b| \b\b/ \b\b- \b\b\\ \b\b| \b\b/ \b\b- \b\b\\ \b\b| \b\b/ \b\b- \b\b\\ \b\b| \b\b/ \b\b- \b\b\\ \b\b| \b\b/ \b\b- \b\b\\ \b\b| \b\b/ \b\b- \b\b\\ \b\b| \b\b/ \b\b- \b\b\\ \b\b| \b\b/ \b\b- \b\b\\ \b\b| \b\b/ \b\b- \b\b\\ \b\b| \b\b/ \b\b- \b\b\\ \b\b| \b\b/ \b\b- \b\b\\ \b\b| \b\b/ \b\b- \b\b\\ \b\b| \b\b/ \b\b- \b\b\\ \b\b| \b\b/ \b\b- \b\b\\ \b\b| \b\b/ \b\b- \b\b\\ \b\b| \b\b/ \b\b- \b\b\\ \b\b| \b\b/ \b\b- \b\b\\ \b\b| \b\b/ \b\b- \b\b\\ \b\b| \b\b/ \b\b- \b\b\\ \b\b| \b\b/ \b\b- \b\b\\ \b\b| \b\b/ \b\b- \b\b\\ \b\b| \b\b/ \b\b- \b\b\\ \b\b| \b\b/ \b\b- \b\b\\ \b\b| \b\b/ \b\b- \b\b\\ \b\b| \b\b/ \b\b- \b\b\\ \b\b| \b\b/ \n",
      "Found conflicts! Looking for incompatible packages.\n",
      "This can take several minutes.  Press CTRL-C to abort.\n",
      "\b\b\\ \b\bfailed\n",
      "\n",
      "UnsatisfiableError: The following specifications were found to be incompatible with each other:\n",
      "\n",
      "Output in format: Requested package -> Available versions\n",
      "\n",
      "Package _libgcc_mutex conflicts for:\n",
      "python=3.6 -> libgcc-ng[version='>=7.5.0'] -> _libgcc_mutex[version='*|0.1',build=main]\n",
      "pytorch=0.4.1 -> libgcc-ng[version='>=5.4.0'] -> _libgcc_mutex[version='*|0.1',build=main]\n",
      "\n",
      "Package pytorch conflicts for:\n",
      "pytorch=0.4.1\n",
      "torchvision==0.2.2 -> pytorch[version='>=1.0.0']The following specifications were found to be incompatible with your system:\n",
      "\n",
      "  - feature:/linux-64::__glibc==2.27=0\n",
      "  - feature:|@/linux-64::__glibc==2.27=0\n",
      "  - python=3.6 -> libgcc-ng[version='>=7.5.0'] -> __glibc[version='>=2.17']\n",
      "\n",
      "Your installed version is: 2.27\n",
      "\n",
      "\n"
     ]
    }
   ],
   "source": [
    "! conda install pytorch=0.4.1 torchvision==0.2.2 cuda90 -c pytorch --yes"
   ]
  },
  {
   "cell_type": "markdown",
   "metadata": {
    "id": "5Xx_puyh2dSs"
   },
   "source": [
    "## Dataset"
   ]
  },
  {
   "cell_type": "code",
   "execution_count": null,
   "metadata": {
    "id": "jPVdFlby4jkK"
   },
   "outputs": [],
   "source": [
    "import torch\n",
    "import torchvision"
   ]
  },
  {
   "cell_type": "code",
   "execution_count": null,
   "metadata": {
    "colab": {
     "base_uri": "https://localhost:8080/"
    },
    "id": "60ua5KZ2yrDG",
    "outputId": "6c64f367-e402-4636-d480-0e53fabc0674"
   },
   "outputs": [
    {
     "name": "stdout",
     "output_type": "stream",
     "text": [
      "conv_cifar_2.py   conv_forest.py     conv_wine.py   hpc_fake.py\n",
      "conv_cifar.py\t  conv_miniboone.py  conv_yeast.py  hpc_svm.py\n",
      "conv_forest_2.py  conv_mnist.py      debug.m\n"
     ]
    }
   ],
   "source": [
    "! ls cwcf/tools/"
   ]
  },
  {
   "cell_type": "code",
   "execution_count": null,
   "metadata": {
    "colab": {
     "base_uri": "https://localhost:8080/"
    },
    "id": "h9l3qR1G0Tk5",
    "outputId": "a79bc6d8-263d-4738-d463-f5d836eafd10"
   },
   "outputs": [
    {
     "name": "stdout",
     "output_type": "stream",
     "text": [
      "Traceback (most recent call last):\n",
      "  File \"cwcf/tools/conv_cifar.py\", line 1, in <module>\n",
      "    from torchvision import datasets, transforms\n",
      "ModuleNotFoundError: No module named 'torchvision'\n"
     ]
    }
   ],
   "source": [
    "! python cwcf/tools/conv_cifar.py"
   ]
  },
  {
   "cell_type": "code",
   "execution_count": null,
   "metadata": {
    "colab": {
     "base_uri": "https://localhost:8080/"
    },
    "id": "AlY6KOtr4zoa",
    "outputId": "e1013f5a-a730-4db7-cfb0-34d0f6125eeb"
   },
   "outputs": [
    {
     "name": "stdout",
     "output_type": "stream",
     "text": [
      "Python 3.6.13 :: Anaconda, Inc.\n"
     ]
    }
   ],
   "source": [
    "! python --version"
   ]
  },
  {
   "cell_type": "code",
   "execution_count": null,
   "metadata": {
    "id": "-Tcrs0Gd5rkQ"
   },
   "outputs": [],
   "source": []
  }
 ],
 "metadata": {
  "accelerator": "GPU",
  "colab": {
   "name": "CwCF.ipynb",
   "provenance": []
  },
  "kernelspec": {
   "display_name": "Python 3",
   "language": "python",
   "name": "python3"
  },
  "language_info": {
   "codemirror_mode": {
    "name": "ipython",
    "version": 3
   },
   "file_extension": ".py",
   "mimetype": "text/x-python",
   "name": "python",
   "nbconvert_exporter": "python",
   "pygments_lexer": "ipython3",
   "version": "3.8.8"
  }
 },
 "nbformat": 4,
 "nbformat_minor": 1
}
